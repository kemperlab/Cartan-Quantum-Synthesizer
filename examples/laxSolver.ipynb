{
 "cells": [
  {
   "cell_type": "code",
   "execution_count": 1,
   "metadata": {},
   "outputs": [],
   "source": [
    "from CQS.methods import Hamiltonian, Cartan, FindParameters\n",
    "import numpy as np\n",
    "from CQS.util.verification import exactU, Nident, PauliExpUnitary, KHK\n"
   ]
  },
  {
   "cell_type": "code",
   "execution_count": 2,
   "metadata": {},
   "outputs": [
    {
     "name": "stdout",
     "output_type": "stream",
     "text": [
      "[(3, 3), (2, 2), (1, 0), (0, 1)]\n",
      "[(2, 3), (3, 2)]\n",
      "[[-2.  1.]\n",
      " [ 2.  0.]]\n",
      "[1. 0. 1. 1. 0. 0.]\n",
      "[ 1.28643924e-174  1.28643924e-174  6.18033922e-001  1.61803390e+000\n",
      " -2.00200000e+002  2.00200000e+002]\n",
      "--- 0.12548232078552246 seconds ---\n",
      "Optimization terminated successfully.\n",
      "         Current function value: -0.388932\n",
      "         Iterations: 5\n",
      "         Function evaluations: 6\n",
      "         Gradient evaluations: 6\n",
      "--- 0.0044384002685546875 seconds ---\n",
      "Optimization Error:\n",
      "1.408409672457071e-14\n",
      "[0.508611 0.508611] [(-0.6180339887498917+0j), (1.6180339887498916+0j)]\n"
     ]
    }
   ],
   "source": [
    "\n",
    "ham = Hamiltonian(2, [(1, 'tfim', False)])\n",
    "cartan = Cartan(ham, involution='countY')\n",
    "params = FindParameters(cartan, optimizerMethod='Lax')\n",
    "params2 = FindParameters(cartan)\n",
    "print(params2.kCoefs, params2.hCoefs)\n"
   ]
  },
  {
   "cell_type": "code",
   "execution_count": 3,
   "metadata": {},
   "outputs": [],
   "source": [
    "U = exactU(ham.HCoefs, ham.HTuples, 1)"
   ]
  },
  {
   "cell_type": "code",
   "execution_count": 4,
   "metadata": {},
   "outputs": [],
   "source": [
    "import numpy as np\n",
    "from numpy import kron\n",
    "from scipy.linalg import expm, norm\n",
    "\n",
    "import CQS.util.IO as IO\n",
    "\n",
    "\n",
    "def KHKtypeI(kCoefs, hCoefs, k, h):\n",
    "    N = len(h[0])\n",
    "    KHK = Nident(N)\n",
    "\n",
    "    #First loop of K terms:\n",
    "    K = expm(PauliSum(1j*kCoefs, k))\n",
    "    KHK = KHK @ K\n",
    "\n",
    "    #H terms\n",
    "    for (term, co) in zip(h, hCoefs):\n",
    "        KHK = KHK @ PauliExpUnitary(N, co, term)\n",
    "\n",
    "    K = expm(PauliSum(-1j*kCoefs, k))\n",
    "    KHK = KHK @ K\n",
    "    return KHK\n",
    "\n",
    "\n",
    "def PauliSum(coefficients, tuples):\n",
    "    H = np.diag(np.zeros(2**len(tuples[0])))\n",
    "\n",
    "    for (co, term) in zip(coefficients, tuples):\n",
    "        print(co)\n",
    "        print(term)\n",
    "        H = H + IO.tuplesToMatrix(co, term)\n",
    "    return H\n"
   ]
  },
  {
   "cell_type": "code",
   "execution_count": 5,
   "metadata": {},
   "outputs": [],
   "source": [
    "#KHK = KHKtypeI(params.kCoefs, params.hCoefs,\n",
    "#params.cartan.k, params.cartan.h)\n",
    "KHKval = KHK(-1*params.kCoefs, params.hCoefs, params.cartan.k, params.cartan.h)"
   ]
  },
  {
   "cell_type": "code",
   "execution_count": 6,
   "metadata": {},
   "outputs": [
    {
     "data": {
      "text/plain": [
       "array([[ 1.00000000e+00-1.22663013e-174j,\n",
       "         4.84172943e-17+3.87691173e-175j,\n",
       "         2.23308906e-17-3.87691173e-175j,\n",
       "         1.30327845e-17+1.22663013e-174j],\n",
       "       [-2.35704120e-17+3.87691173e-175j,\n",
       "         1.00000000e+00+1.22663013e-174j,\n",
       "         4.25736985e-17-1.22663013e-174j,\n",
       "        -2.23308906e-17-3.87691173e-175j],\n",
       "       [ 2.23308906e-17-3.87691173e-175j,\n",
       "         1.30327845e-17-1.22663013e-174j,\n",
       "         1.00000000e+00+1.22663013e-174j,\n",
       "        -4.84172943e-17+3.87691173e-175j],\n",
       "       [ 4.25736985e-17+1.22663013e-174j,\n",
       "        -2.23308906e-17-3.87691173e-175j,\n",
       "         2.35704120e-17+3.87691173e-175j,\n",
       "         1.00000000e+00-1.22663013e-174j]])"
      ]
     },
     "execution_count": 6,
     "metadata": {},
     "output_type": "execute_result"
    }
   ],
   "source": [
    "KHKval\n"
   ]
  },
  {
   "cell_type": "code",
   "execution_count": 7,
   "metadata": {},
   "outputs": [
    {
     "data": {
      "text/plain": [
       "array([[-3.84852853e-02+0.59665795j,  7.06115200e-17+0.35184491j,\n",
       "         1.08789163e-17+0.35184491j, -5.78787591e-01-0.24481304j],\n",
       "       [ 2.81552897e-17+0.35184491j, -3.84852853e-02-0.59665795j,\n",
       "        -5.78787591e-01+0.24481304j, -4.77003567e-17+0.35184491j],\n",
       "       [ 1.50926397e-17+0.35184491j, -5.78787591e-01+0.24481304j,\n",
       "        -3.84852853e-02-0.59665795j,  1.77273529e-17+0.35184491j],\n",
       "       [-5.78787591e-01-0.24481304j,  4.97853916e-17+0.35184491j,\n",
       "         9.64493029e-18+0.35184491j, -3.84852853e-02+0.59665795j]])"
      ]
     },
     "execution_count": 7,
     "metadata": {},
     "output_type": "execute_result"
    }
   ],
   "source": [
    "U"
   ]
  },
  {
   "cell_type": "code",
   "execution_count": null,
   "metadata": {},
   "outputs": [],
   "source": []
  }
 ],
 "metadata": {
  "interpreter": {
   "hash": "916dbcbb3f70747c44a77c7bcd40155683ae19c65e1c03b4aa3499c5328201f1"
  },
  "kernelspec": {
   "display_name": "Python 3.8.10 64-bit",
   "language": "python",
   "name": "python3"
  },
  "language_info": {
   "codemirror_mode": {
    "name": "ipython",
    "version": 3
   },
   "file_extension": ".py",
   "mimetype": "text/x-python",
   "name": "python",
   "nbconvert_exporter": "python",
   "pygments_lexer": "ipython3",
   "version": "3.8.10"
  },
  "orig_nbformat": 4
 },
 "nbformat": 4,
 "nbformat_minor": 2
}
