{
 "cells": [
  {
   "cell_type": "code",
   "execution_count": 10,
   "metadata": {},
   "outputs": [],
   "source": [
    "from CQS.methods import Hamiltonian, Cartan, FindParameters\n",
    "import numpy as np\n",
    "from CQS.util.verification import exactU, Nident, PauliExpUnitary, KHK\n"
   ]
  },
  {
   "cell_type": "code",
   "execution_count": 11,
   "metadata": {},
   "outputs": [
    {
     "name": "stdout",
     "output_type": "stream",
     "text": [
      "[(1, 3, 2, 0), (1, 2, 3, 0), (2, 3, 1, 0), (2, 1, 3, 0), (3, 2, 1, 0), (3, 1, 2, 0), (0, 1, 3, 2), (0, 1, 2, 3), (0, 2, 3, 1), (0, 2, 1, 3), (0, 3, 2, 1), (0, 3, 1, 2), (1, 2, 0, 3), (1, 0, 3, 2), (1, 3, 0, 2), (1, 0, 2, 3), (2, 1, 0, 3), (2, 0, 3, 1), (2, 0, 1, 3), (2, 3, 0, 1), (3, 0, 2, 1), (3, 1, 0, 2), (3, 0, 1, 2), (3, 2, 0, 1)]\n",
      "--- 62.54436492919922 seconds ---\n",
      "Optimization terminated successfully.\n",
      "         Current function value: -4.273722\n",
      "         Iterations: 109\n",
      "         Function evaluations: 117\n",
      "         Gradient evaluations: 117\n",
      "--- 47.67561984062195 seconds ---\n",
      "Optimization Error:\n",
      "8.405732439759897e-10\n"
     ]
    }
   ],
   "source": [
    "ham = Hamiltonian(4, [(1, 'heisenberg', False)])\n",
    "cartan = Cartan(ham, involution='countY')\n",
    "#print(cartan.m)\n",
    "print(cartan.k)\n",
    "params = FindParameters(cartan, optimizerMethod='Lax', dt=0.1, truncateExp=15)\n",
    "params2 = FindParameters(cartan)"
   ]
  },
  {
   "cell_type": "code",
   "execution_count": 12,
   "metadata": {},
   "outputs": [
    {
     "data": {
      "text/plain": [
       "<matplotlib.collections.LineCollection at 0x239acca2ee0>"
      ]
     },
     "execution_count": 12,
     "metadata": {},
     "output_type": "execute_result"
    },
    {
     "data": {
      "image/png": "[encoded data removed]",
      "text/plain": [
       "<Figure size 432x288 with 1 Axes>"
      ]
     },
     "metadata": {
      "needs_background": "light"
     },
     "output_type": "display_data"
    }
   ],
   "source": [
    "import matplotlib.pyplot as plt\n",
    "flow = params.flow\n",
    "import matplotlib.pyplot as plt\n",
    "\n",
    "cutoff = 400#flow.shape[1]\n",
    "for i in range(params.lenm + params.lenK):\n",
    "    if i < params.lenh:\n",
    "        plt.plot(flow[i][:cutoff], label=r'$h_{}$'.format(i), color='b')\n",
    "    elif i < params.lenm:\n",
    "        plt.plot(flow[i][:cutoff], label=r'$\\tilde{{m}}_{}$'.format(i-params.lenh), color='g') \n",
    "    else:\n",
    "        plt.plot(flow[i][:cutoff], label=r'$k_{}$'.format(i- params.lenm), color='r')\n",
    "plt.suptitle('Parameter Flow of two site tfim model')\n",
    "plt.xlabel('Solver Step Index (dt = 0.1)')\n",
    "plt.ylabel('Parameter Value')\n",
    "plt.hlines(0, 0, cutoff, linestyles='dashed', color='k')\n",
    "#plt.legend()"
   ]
  },
  {
   "cell_type": "code",
   "execution_count": 13,
   "metadata": {},
   "outputs": [
    {
     "data": {
      "text/plain": [
       "\"#print(params.kappa)\\n#print(params.comm_table[1])\\nprint(params.hCoefs)\\n#print(params2.hCoefs)\\n\\nprint('======k========')\\nprint(params.kCoefs)\\n#print(params2.kCoefs)\\n\\nprint(params.adkMapk)\\nprint(params.adkk)\\n\\nprint(params.kappa)\\nprint(params.cartan.k)\\n\""
      ]
     },
     "execution_count": 13,
     "metadata": {},
     "output_type": "execute_result"
    }
   ],
   "source": [
    "\"\"\"#print(params.kappa)\n",
    "#print(params.comm_table[1])\n",
    "print(params.hCoefs)\n",
    "#print(params2.hCoefs)\n",
    "\n",
    "print('======k========')\n",
    "print(params.kCoefs)\n",
    "#print(params2.kCoefs)\n",
    "\n",
    "print(params.adkMapk)\n",
    "print(params.adkk)\n",
    "\n",
    "print(params.kappa)\n",
    "print(params.cartan.k)\n",
    "\"\"\""
   ]
  },
  {
   "cell_type": "code",
   "execution_count": 14,
   "metadata": {},
   "outputs": [],
   "source": [
    "U = exactU(ham.HCoefs, ham.HTuples, 1)"
   ]
  },
  {
   "cell_type": "code",
   "execution_count": 15,
   "metadata": {},
   "outputs": [],
   "source": [
    "import numpy as np\n",
    "from numpy import kron\n",
    "from scipy.linalg import expm, norm\n",
    "\n",
    "import CQS.util.IO as IO\n",
    "\n",
    "\n",
    "def KHKtypeI(kCoefs, hCoefs, k, h):\n",
    "    N = len(h[0])\n",
    "    Matrix = Nident(N)\n",
    "\n",
    "    #First loop of K terms:\n",
    "    K = expm(-1j*PauliSum(kCoefs, k))\n",
    "    np.matmul(K, Matrix, out=Matrix)\n",
    "\n",
    "    #H terms\n",
    "    H = expm(1j*PauliSum(hCoefs, h))\n",
    "    np.matmul(H, Matrix, out=Matrix)\n",
    "\n",
    "    K = expm(1j*PauliSum(kCoefs, k))\n",
    "    np.matmul(K, Matrix, out=Matrix)\n",
    "    return Matrix\n",
    "\n",
    "\n",
    "def PauliSum(coefficients, tuples):\n",
    "    H = np.zeros((2**len(tuples[0]),)*2, dtype=np.complex128)\n",
    "\n",
    "    for (co, term) in zip(coefficients, tuples):\n",
    "        H += IO.tuplesToMatrix(co, term)\n",
    "    return H\n"
   ]
  },
  {
   "cell_type": "code",
   "execution_count": 16,
   "metadata": {},
   "outputs": [
    {
     "name": "stdout",
     "output_type": "stream",
     "text": [
      "9.400168684091078e-05\n"
     ]
    }
   ],
   "source": [
    "#KHK = KHKtypeI(params.kCoefs, params.hCoefs,\n",
    "#params.cartan.k, params.cartan.h)\n",
    "KHKval = KHKtypeI(params.kCoefs, params.hCoefs,\n",
    "                  params.cartan.k, params.cartan.h)\n",
    "KHKvalComm = KHK(params.kCoefs, params.hCoefs,\n",
    "                  params.cartan.k, params.cartan.h)\n",
    "KHKval2 = KHK(params2.kCoefs, params2.hCoefs, params2.cartan.k, params2.cartan.h)\n",
    "print(np.linalg.norm(KHKval - KHKval2))# < 1e-5\n"
   ]
  },
  {
   "cell_type": "code",
   "execution_count": 17,
   "metadata": {},
   "outputs": [
    {
     "name": "stdout",
     "output_type": "stream",
     "text": [
      "4.254253897967273e-09\n"
     ]
    }
   ],
   "source": [
    "print(np.linalg.norm(KHKval - U))\n",
    "#print(np.linalg.norm(KHKvalComm - U))"
   ]
  },
  {
   "cell_type": "markdown",
   "metadata": {},
   "source": [
    "0.0008833040931808371\n",
    "\n",
    "1.8896911218275023e-07\n",
    "\n",
    "4.254253897967273e-09\n",
    "\n"
   ]
  },
  {
   "cell_type": "code",
   "execution_count": 18,
   "metadata": {},
   "outputs": [
    {
     "ename": "SyntaxError",
     "evalue": "invalid syntax (Temp/ipykernel_11600/1853520162.py, line 1)",
     "output_type": "error",
     "traceback": [
      "\u001b[1;36m  File \u001b[1;32m\"C:\\Users\\Thoma\\AppData\\Local\\Temp/ipykernel_11600/1853520162.py\"\u001b[1;36m, line \u001b[1;32m1\u001b[0m\n\u001b[1;33m    from numpy\u001b[0m\n\u001b[1;37m              ^\u001b[0m\n\u001b[1;31mSyntaxError\u001b[0m\u001b[1;31m:\u001b[0m invalid syntax\n"
     ]
    }
   ],
   "source": [
    "from numpy"
   ]
  },
  {
   "cell_type": "code",
   "execution_count": null,
   "metadata": {},
   "outputs": [],
   "source": []
  }
 ],
 "metadata": {
  "interpreter": {
   "hash": "916dbcbb3f70747c44a77c7bcd40155683ae19c65e1c03b4aa3499c5328201f1"
  },
  "kernelspec": {
   "display_name": "Python 3.8.10 64-bit",
   "language": "python",
   "name": "python3"
  },
  "language_info": {
   "codemirror_mode": {
    "name": "ipython",
    "version": 3
   },
   "file_extension": ".py",
   "mimetype": "text/x-python",
   "name": "python",
   "nbconvert_exporter": "python",
   "pygments_lexer": "ipython3",
   "version": "3.9.5"
  },
  "orig_nbformat": 4
 },
 "nbformat": 4,
 "nbformat_minor": 2
}
