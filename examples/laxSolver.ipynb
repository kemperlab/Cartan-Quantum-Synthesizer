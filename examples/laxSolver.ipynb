{
 "cells": [
  {
   "cell_type": "code",
   "execution_count": 21,
   "metadata": {},
   "outputs": [],
   "source": [
    "from CQS.methods import Hamiltonian, Cartan, FindParameters\n",
    "import numpy as np\n",
    "from CQS.util.verification import exactU, Nident, PauliExpUnitary, KHK\n"
   ]
  },
  {
   "cell_type": "code",
   "execution_count": 22,
   "metadata": {},
   "outputs": [
    {
     "name": "stdout",
     "output_type": "stream",
     "text": [
      "[ 4.94065646e-324  4.94065646e-324 -6.18033694e-001  1.61803369e+000\n",
      "  5.08610983e-001  5.08610983e-001]\n",
      "--- 0.1477949619293213 seconds ---\n",
      "[(1, 0), (0, 1), (3, 3), (2, 2)]\n",
      "[(1, 0), (0, 1)]\n",
      "Optimization terminated successfully.\n",
      "         Current function value: -1.705543\n",
      "         Iterations: 6\n",
      "         Function evaluations: 9\n",
      "         Gradient evaluations: 9\n",
      "--- 0.005706310272216797 seconds ---\n",
      "Optimization Error:\n",
      "8.339270698652428e-15\n",
      "[-1.06218532 -0.27678721] [(-1.6180339887498913+0j), (-0.6180339887498971+0j)]\n"
     ]
    }
   ],
   "source": [
    "\n",
    "ham = Hamiltonian(2, [(1, 'tfim', False)])\n",
    "cartan = Cartan(ham, involution='countY')\n",
    "cartan.subAlgebra([(1,0)])\n",
    "params = FindParameters(cartan, optimizerMethod='Lax')\n",
    "print(params.cartan.m)\n",
    "print(params.cartan.h)\n",
    "params2 = FindParameters(cartan)\n",
    "print(params2.kCoefs, params2.hCoefs)\n"
   ]
  },
  {
   "cell_type": "code",
   "execution_count": null,
   "metadata": {},
   "outputs": [],
   "source": [
    "U = exactU(ham.HCoefs, ham.HTuples, 1)"
   ]
  },
  {
   "cell_type": "code",
   "execution_count": null,
   "metadata": {},
   "outputs": [],
   "source": [
    "import numpy as np\n",
    "from numpy import kron\n",
    "from scipy.linalg import expm, norm\n",
    "\n",
    "import CQS.util.IO as IO\n",
    "\n",
    "\n",
    "def KHKtypeI(kCoefs, hCoefs, k, h):\n",
    "    N = len(h[0])\n",
    "    KHK = Nident(N)\n",
    "\n",
    "    #First loop of K terms:\n",
    "    K = expm(PauliSum(1j*kCoefs, k))\n",
    "    KHK = KHK @ K\n",
    "\n",
    "    #H terms\n",
    "    for (term, co) in zip(h, hCoefs):\n",
    "        KHK = KHK @ PauliExpUnitary(N, co, term)\n",
    "\n",
    "    K = expm(PauliSum(-1j*kCoefs, k))\n",
    "    KHK = KHK @ K\n",
    "    return KHK\n",
    "\n",
    "\n",
    "def PauliSum(coefficients, tuples):\n",
    "    H = np.diag(np.zeros(2**len(tuples[0])))\n",
    "\n",
    "    for (co, term) in zip(coefficients, tuples):\n",
    "        print(co)\n",
    "        print(term)\n",
    "        H = H + IO.tuplesToMatrix(co, term)\n",
    "    return H\n"
   ]
  },
  {
   "cell_type": "code",
   "execution_count": null,
   "metadata": {},
   "outputs": [
    {
     "name": "stdout",
     "output_type": "stream",
     "text": [
      "(array([6.00639812, 0.50861098]), array([1.28643669e-174, 1.28643669e-174]))\n"
     ]
    }
   ],
   "source": [
    "#KHK = KHKtypeI(params.kCoefs, params.hCoefs,\n",
    "#params.cartan.k, params.cartan.h)\n",
    "print((params.kCoefs, params.hCoefs))\n",
    "KHKval = KHK(params.kCoefs, params.hCoefs, params.cartan.k, params.cartan.h)"
   ]
  },
  {
   "cell_type": "code",
   "execution_count": null,
   "metadata": {},
   "outputs": [
    {
     "data": {
      "text/plain": [
       "array([[ 1.00000000e+00-2.01163804e-183j,\n",
       "        -1.37549129e-17-1.28643669e-174j,\n",
       "        -2.83374819e-17+1.28643669e-174j,\n",
       "         5.87122117e-18+2.01163803e-183j],\n",
       "       [-1.38533168e-17-1.28643669e-174j,\n",
       "         1.00000000e+00+2.01163804e-183j,\n",
       "        -5.36829518e-18-2.01163803e-183j,\n",
       "         2.83374819e-17+1.28643669e-174j],\n",
       "       [ 5.75123489e-17+1.28643669e-174j,\n",
       "         5.87122117e-18-2.01163798e-183j,\n",
       "         1.00000000e+00+2.01163803e-183j,\n",
       "         1.37549129e-17-1.28643669e-174j],\n",
       "       [-5.36829518e-18+2.01163792e-183j,\n",
       "        -5.75123489e-17+1.28643669e-174j,\n",
       "         1.38533168e-17-1.28643669e-174j,\n",
       "         1.00000000e+00-2.01163803e-183j]])"
      ]
     },
     "execution_count": 16,
     "metadata": {},
     "output_type": "execute_result"
    }
   ],
   "source": [
    "KHKval\n"
   ]
  },
  {
   "cell_type": "code",
   "execution_count": null,
   "metadata": {},
   "outputs": [
    {
     "data": {
      "text/plain": [
       "array([[-3.84852853e-02+0.59665795j,  7.06115200e-17+0.35184491j,\n",
       "         1.08789163e-17+0.35184491j, -5.78787591e-01-0.24481304j],\n",
       "       [ 2.81552897e-17+0.35184491j, -3.84852853e-02-0.59665795j,\n",
       "        -5.78787591e-01+0.24481304j, -4.77003567e-17+0.35184491j],\n",
       "       [ 1.50926397e-17+0.35184491j, -5.78787591e-01+0.24481304j,\n",
       "        -3.84852853e-02-0.59665795j,  1.77273529e-17+0.35184491j],\n",
       "       [-5.78787591e-01-0.24481304j,  4.97853916e-17+0.35184491j,\n",
       "         9.64493029e-18+0.35184491j, -3.84852853e-02+0.59665795j]])"
      ]
     },
     "execution_count": 14,
     "metadata": {},
     "output_type": "execute_result"
    }
   ],
   "source": [
    "U"
   ]
  },
  {
   "cell_type": "code",
   "execution_count": null,
   "metadata": {},
   "outputs": [],
   "source": []
  }
 ],
 "metadata": {
  "interpreter": {
   "hash": "916dbcbb3f70747c44a77c7bcd40155683ae19c65e1c03b4aa3499c5328201f1"
  },
  "kernelspec": {
   "display_name": "Python 3.8.10 64-bit",
   "language": "python",
   "name": "python3"
  },
  "language_info": {
   "codemirror_mode": {
    "name": "ipython",
    "version": 3
   },
   "file_extension": ".py",
   "mimetype": "text/x-python",
   "name": "python",
   "nbconvert_exporter": "python",
   "pygments_lexer": "ipython3",
   "version": "3.8.10"
  },
  "orig_nbformat": 4
 },
 "nbformat": 4,
 "nbformat_minor": 2
}
